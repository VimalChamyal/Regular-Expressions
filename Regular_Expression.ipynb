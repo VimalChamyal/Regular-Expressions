{
  "nbformat": 4,
  "nbformat_minor": 0,
  "metadata": {
    "colab": {
      "provenance": [],
      "authorship_tag": "ABX9TyPUolsNJKzn2h77MrOnATFw",
      "include_colab_link": true
    },
    "kernelspec": {
      "name": "python3",
      "display_name": "Python 3"
    },
    "language_info": {
      "name": "python"
    }
  },
  "cells": [
    {
      "cell_type": "markdown",
      "metadata": {
        "id": "view-in-github",
        "colab_type": "text"
      },
      "source": [
        "<a href=\"https://colab.research.google.com/github/VimalChamyal/Regular-Expressions/blob/main/Regular_Expression.ipynb\" target=\"_parent\"><img src=\"https://colab.research.google.com/assets/colab-badge.svg\" alt=\"Open In Colab\"/></a>"
      ]
    },
    {
      "cell_type": "markdown",
      "source": [
        "# Regular Expressions (RegEx)"
      ],
      "metadata": {
        "id": "mN_-MUsGpQwp"
      }
    },
    {
      "cell_type": "code",
      "execution_count": 1,
      "metadata": {
        "id": "IIvKuEvQpMaj"
      },
      "outputs": [],
      "source": [
        "import re\n",
        "# Module in python that allows us to do regular expression"
      ]
    },
    {
      "cell_type": "markdown",
      "source": [
        "## Extract just the phone number"
      ],
      "metadata": {
        "id": "QJ5UgAZKpV1r"
      }
    },
    {
      "cell_type": "code",
      "source": [
        "text = \"Patient's phone no. is 9123445667. Bill amount is 1240$.\"\n",
        "pattern = '\\d{10}'\n",
        "# We will extract only that number which has exactly 10 digits\n",
        "\n",
        "match = re.findall(pattern, text)\n",
        "\n",
        "# re.findall(find_what, find_where)\n",
        "match"
      ],
      "metadata": {
        "colab": {
          "base_uri": "https://localhost:8080/"
        },
        "id": "bZCz3egkpT4b",
        "outputId": "24171f13-0e60-43a9-cc57-3e83f004c0cc"
      },
      "execution_count": 2,
      "outputs": [
        {
          "output_type": "execute_result",
          "data": {
            "text/plain": [
              "['9123445667']"
            ]
          },
          "metadata": {},
          "execution_count": 2
        }
      ]
    },
    {
      "cell_type": "markdown",
      "source": [
        "## Extract the amount"
      ],
      "metadata": {
        "id": "RZRq3mgopajt"
      }
    },
    {
      "cell_type": "code",
      "source": [
        "text = \"Patient's phone no. is 9123445667. Bill amount is 1240$.\"\n",
        "pattern = '\\d+\\$'\n",
        "# We will extract only that number which is a currency (has $ after it)\n",
        "\n",
        "match = re.findall(pattern, text)\n",
        "\n",
        "# re.findall(find_what, find_where)\n",
        "match"
      ],
      "metadata": {
        "colab": {
          "base_uri": "https://localhost:8080/"
        },
        "id": "9j423ZBDpZob",
        "outputId": "41d56a20-8dc4-4ef5-d740-74f67b632104"
      },
      "execution_count": 3,
      "outputs": [
        {
          "output_type": "execute_result",
          "data": {
            "text/plain": [
              "['1240$']"
            ]
          },
          "metadata": {},
          "execution_count": 3
        }
      ]
    },
    {
      "cell_type": "markdown",
      "source": [
        "## Extract the amount (without currency symbol)\n",
        "### Applying the grouping concept. Grouping using ()"
      ],
      "metadata": {
        "id": "nYHSZvv4pgiV"
      }
    },
    {
      "cell_type": "code",
      "source": [
        "text = \"Patient's phone no. is 9123445667. Bill amount is 1240$.\"\n",
        "pattern = '(\\d+)\\$'\n",
        "# We will extract only that number which is a currency (has $ after it)\n",
        "\n",
        "match = re.findall(pattern, text)\n",
        "\n",
        "# re.findall(find_what, find_where)\n",
        "match"
      ],
      "metadata": {
        "colab": {
          "base_uri": "https://localhost:8080/"
        },
        "id": "1mJirR02pf1r",
        "outputId": "3fc33c9e-deb6-4d35-bfd9-591c42b4da8c"
      },
      "execution_count": 4,
      "outputs": [
        {
          "output_type": "execute_result",
          "data": {
            "text/plain": [
              "['1240']"
            ]
          },
          "metadata": {},
          "execution_count": 4
        }
      ]
    },
    {
      "cell_type": "markdown",
      "source": [
        "## Extract the phone numbers with all the available formats"
      ],
      "metadata": {
        "id": "PRvZxtOJplRf"
      }
    },
    {
      "cell_type": "code",
      "source": [
        "text = \"Patient's phone number is (732)-201-2020. His cousin's number is 9193124959\"\n",
        "pattern = '\\(\\d{3}\\)-\\d+-\\d{4}|\\d{10}'\n",
        "# We will extract phone numbers in both the available formats\n",
        "\n",
        "match = re.findall(pattern, text)\n",
        "\n",
        "# re.findall(find_what, find_where)\n",
        "match"
      ],
      "metadata": {
        "colab": {
          "base_uri": "https://localhost:8080/"
        },
        "id": "NPDLVLxmpkoR",
        "outputId": "fe8f6e4e-0c63-403f-c454-1584ece2bfa7"
      },
      "execution_count": 5,
      "outputs": [
        {
          "output_type": "execute_result",
          "data": {
            "text/plain": [
              "['(732)-201-2020', '9193124959']"
            ]
          },
          "metadata": {},
          "execution_count": 5
        }
      ]
    },
    {
      "cell_type": "markdown",
      "source": [
        "## Extract amount and the phone number when called"
      ],
      "metadata": {
        "id": "sqhc4LuNpyct"
      }
    },
    {
      "cell_type": "code",
      "source": [
        "text = \"Patient's phone no. is 9123445667. Bill amount is 1240$.\"\n",
        "pattern = '(\\d{10})\\D+(\\d+)\\$'\n",
        "# We will extract only that number which is a currency (has $ after it)\n",
        "\n",
        "match = re.search(pattern, text)\n",
        "\n",
        "# re.search(find_what, find_where)\n",
        "match\n",
        "\n",
        "#findall returns list whereas search returns list"
      ],
      "metadata": {
        "colab": {
          "base_uri": "https://localhost:8080/"
        },
        "id": "5r108K_KpwYl",
        "outputId": "d8c186ab-1194-47ed-9965-0f18715ceb1d"
      },
      "execution_count": 6,
      "outputs": [
        {
          "output_type": "execute_result",
          "data": {
            "text/plain": [
              "<re.Match object; span=(23, 55), match='9123445667. Bill amount is 1240$'>"
            ]
          },
          "metadata": {},
          "execution_count": 6
        }
      ]
    },
    {
      "cell_type": "code",
      "source": [
        "phone_number, bill_amount = match.groups()"
      ],
      "metadata": {
        "id": "VxBgQU1gp12h"
      },
      "execution_count": 7,
      "outputs": []
    },
    {
      "cell_type": "code",
      "source": [
        "phone_number"
      ],
      "metadata": {
        "colab": {
          "base_uri": "https://localhost:8080/",
          "height": 35
        },
        "id": "D9Tfa19xp4zM",
        "outputId": "31901de8-b6a2-4494-da6d-b705e543e687"
      },
      "execution_count": 8,
      "outputs": [
        {
          "output_type": "execute_result",
          "data": {
            "text/plain": [
              "'9123445667'"
            ],
            "application/vnd.google.colaboratory.intrinsic+json": {
              "type": "string"
            }
          },
          "metadata": {},
          "execution_count": 8
        }
      ]
    },
    {
      "cell_type": "code",
      "source": [
        "bill_amount"
      ],
      "metadata": {
        "colab": {
          "base_uri": "https://localhost:8080/",
          "height": 35
        },
        "id": "CWerADjzp6Xw",
        "outputId": "f608ba46-8633-419a-8f13-ee7edc864edd"
      },
      "execution_count": 9,
      "outputs": [
        {
          "output_type": "execute_result",
          "data": {
            "text/plain": [
              "'1240'"
            ],
            "application/vnd.google.colaboratory.intrinsic+json": {
              "type": "string"
            }
          },
          "metadata": {},
          "execution_count": 9
        }
      ]
    },
    {
      "cell_type": "markdown",
      "source": [
        "## Working on the real text"
      ],
      "metadata": {
        "id": "kbqehBcQqQ-2"
      }
    },
    {
      "cell_type": "code",
      "source": [
        "text = '''\n",
        "Dr John Smith, M.D\n",
        "2 Non-Important Street,\n",
        "New York, Phone (000)-111-2222\n",
        "\n",
        "Name: Marta Sharapova Date: 5/11/2022\n",
        "\n",
        "Address: 9 tennis court, new Russia, DC\n",
        "\n",
        "Prednisone 20 mg\n",
        "Lialda 2.4 gram\n",
        "\n",
        "Directions:\n",
        "\n",
        "Prednisone, Taper 5 mg every 3 days,\n",
        "Finish in 2.5 weeks a\n",
        "Lialda - take 2 pill everyday for 1 month\n",
        "\n",
        "Refill: 2 times\n",
        "'''"
      ],
      "metadata": {
        "id": "9mVm54ofqOsl"
      },
      "execution_count": 10,
      "outputs": []
    },
    {
      "cell_type": "markdown",
      "source": [
        "## Extract the name"
      ],
      "metadata": {
        "id": "x61BO5EOqVAS"
      }
    },
    {
      "cell_type": "code",
      "source": [
        "pattern = \"Name:(.+)Date:\"\n",
        "\n",
        "match = re.findall(pattern, text)\n",
        "match"
      ],
      "metadata": {
        "colab": {
          "base_uri": "https://localhost:8080/"
        },
        "id": "cH548IBWqTDD",
        "outputId": "fe50b192-029c-49ab-bcf7-317ca7140f28"
      },
      "execution_count": 11,
      "outputs": [
        {
          "output_type": "execute_result",
          "data": {
            "text/plain": [
              "[' Marta Sharapova ']"
            ]
          },
          "metadata": {},
          "execution_count": 11
        }
      ]
    },
    {
      "cell_type": "code",
      "source": [
        "# Remove the spaces from first and end\n",
        "match[0].strip()"
      ],
      "metadata": {
        "colab": {
          "base_uri": "https://localhost:8080/",
          "height": 35
        },
        "id": "GoAx8jiQqWwW",
        "outputId": "c0e03f69-0943-4c33-c3b2-176377261833"
      },
      "execution_count": 12,
      "outputs": [
        {
          "output_type": "execute_result",
          "data": {
            "text/plain": [
              "'Marta Sharapova'"
            ],
            "application/vnd.google.colaboratory.intrinsic+json": {
              "type": "string"
            }
          },
          "metadata": {},
          "execution_count": 12
        }
      ]
    },
    {
      "cell_type": "markdown",
      "source": [
        "## Extract the address"
      ],
      "metadata": {
        "id": "g4Cn6dyIqdzh"
      }
    },
    {
      "cell_type": "code",
      "source": [
        "pattern = \"Address: (.*)\\n\"\n",
        "\n",
        "match = re.findall(pattern, text)\n",
        "print(match[0].strip())"
      ],
      "metadata": {
        "colab": {
          "base_uri": "https://localhost:8080/"
        },
        "id": "Obw-1diJqb5e",
        "outputId": "373b91b0-48fa-429b-cb13-8ab77e56d373"
      },
      "execution_count": 13,
      "outputs": [
        {
          "output_type": "stream",
          "name": "stdout",
          "text": [
            "9 tennis court, new Russia, DC\n"
          ]
        }
      ]
    },
    {
      "cell_type": "markdown",
      "source": [
        "## Extract the mediciences"
      ],
      "metadata": {
        "id": "Vacs1WIOqgpr"
      }
    },
    {
      "cell_type": "code",
      "source": [
        "pattern = \"Address:.*\\n\\n(.*)\\n(.*)\\n\"\n",
        "\n",
        "match = re.findall(pattern,text)\n",
        "match"
      ],
      "metadata": {
        "colab": {
          "base_uri": "https://localhost:8080/"
        },
        "id": "y6pZOImFqfl1",
        "outputId": "e35c7ed5-b582-4eca-923f-d79d3c42f801"
      },
      "execution_count": 14,
      "outputs": [
        {
          "output_type": "execute_result",
          "data": {
            "text/plain": [
              "[('Prednisone 20 mg', 'Lialda 2.4 gram')]"
            ]
          },
          "metadata": {},
          "execution_count": 14
        }
      ]
    },
    {
      "cell_type": "markdown",
      "source": [
        "## Extract the directions"
      ],
      "metadata": {
        "id": "F6KP3J5yqkPr"
      }
    },
    {
      "cell_type": "code",
      "source": [
        "pattern = \"Directions:\\n*(.*)Refill:\"\n",
        "\n",
        "match = re.findall(pattern, text, flags = re.DOTALL)\n",
        "print(match[0].strip())"
      ],
      "metadata": {
        "colab": {
          "base_uri": "https://localhost:8080/"
        },
        "id": "ttoKi0osqjzx",
        "outputId": "899882a2-0308-469f-ff7b-0e734bdab523"
      },
      "execution_count": 15,
      "outputs": [
        {
          "output_type": "stream",
          "name": "stdout",
          "text": [
            "Prednisone, Taper 5 mg every 3 days,\n",
            "Finish in 2.5 weeks a\n",
            "Lialda - take 2 pill everyday for 1 month\n"
          ]
        }
      ]
    },
    {
      "cell_type": "code",
      "source": [
        "pattern = \"Refill: (.*)\"\n",
        "\n",
        "match = re.findall(pattern, text)\n",
        "match"
      ],
      "metadata": {
        "colab": {
          "base_uri": "https://localhost:8080/"
        },
        "id": "rB2PufZ4qnSd",
        "outputId": "5dbb7d17-0152-40df-9a33-1441cc2ddb2d"
      },
      "execution_count": 16,
      "outputs": [
        {
          "output_type": "execute_result",
          "data": {
            "text/plain": [
              "['2 times']"
            ]
          },
          "metadata": {},
          "execution_count": 16
        }
      ]
    },
    {
      "cell_type": "code",
      "source": [
        "pattern = \"Address:[^\\n]*(.*)Directions\"\n",
        "match = re.findall(pattern, text, flags=re.DOTALL)\n",
        "\n",
        "print(match[0].strip())"
      ],
      "metadata": {
        "colab": {
          "base_uri": "https://localhost:8080/"
        },
        "id": "5c_QUh8Dqo8s",
        "outputId": "701d6aed-5608-454a-c3c5-4b3f1ba518e7"
      },
      "execution_count": 17,
      "outputs": [
        {
          "output_type": "stream",
          "name": "stdout",
          "text": [
            "Prednisone 20 mg\n",
            "Lialda 2.4 gram\n"
          ]
        }
      ]
    }
  ]
}